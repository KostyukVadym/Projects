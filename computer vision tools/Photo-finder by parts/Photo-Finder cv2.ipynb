{
 "cells": [
  {
   "cell_type": "code",
   "execution_count": 1,
   "metadata": {},
   "outputs": [],
   "source": [
    "import cv2\n",
    "import numpy as np"
   ]
  },
  {
   "cell_type": "markdown",
   "metadata": {},
   "source": [
    "Loading original template image"
   ]
  },
  {
   "cell_type": "code",
   "execution_count": 3,
   "metadata": {},
   "outputs": [],
   "source": [
    "original_image_template = cv2.imread('lviv-part.png')\n",
    "cv2.imshow(\"Original Template\", original_image_template)"
   ]
  },
  {
   "cell_type": "markdown",
   "metadata": {},
   "source": [
    "Getting Dimensions to draw box similar to template"
   ]
  },
  {
   "cell_type": "code",
   "execution_count": 4,
   "metadata": {},
   "outputs": [],
   "source": [
    "height, width = original_image_template.shape[:2]"
   ]
  },
  {
   "cell_type": "code",
   "execution_count": 5,
   "metadata": {},
   "outputs": [],
   "source": [
    "original_image = cv2.imread('Lviv-full.png')\n",
    "cv2.imshow(\"Original Image\", original_image)"
   ]
  },
  {
   "cell_type": "markdown",
   "metadata": {},
   "source": [
    "Converting to grayscale"
   ]
  },
  {
   "cell_type": "code",
   "execution_count": 6,
   "metadata": {},
   "outputs": [],
   "source": [
    "\n",
    "gray_template = cv2.cvtColor(original_image_template, cv2.COLOR_BGR2GRAY)\n",
    "gray_original = cv2.cvtColor(original_image, cv2.COLOR_BGR2GRAY)"
   ]
  },
  {
   "cell_type": "markdown",
   "metadata": {},
   "source": [
    "Matching template with original image"
   ]
  },
  {
   "cell_type": "code",
   "execution_count": 7,
   "metadata": {},
   "outputs": [],
   "source": [
    "match = cv2.matchTemplate(gray_original, gray_template, cv2.TM_CCOEFF)\n",
    "min_val, max_val, min_loc, max_loc = cv2.minMaxLoc(match)"
   ]
  },
  {
   "cell_type": "markdown",
   "metadata": {},
   "source": [
    "drawing rectangle around the matched area"
   ]
  },
  {
   "cell_type": "code",
   "execution_count": 8,
   "metadata": {},
   "outputs": [
    {
     "data": {
      "text/plain": [
       "array([[[ 75,  63,  46],\n",
       "        [163, 153, 119],\n",
       "        [ 46,  45,  97],\n",
       "        ...,\n",
       "        [ 46,  46,  46],\n",
       "        [ 46,  46,  46],\n",
       "        [ 46,  46,  46]],\n",
       "\n",
       "       [[ 46,  46,  46],\n",
       "        [ 46,  46,  46],\n",
       "        [ 46,  46,  46],\n",
       "        ...,\n",
       "        [ 46,  46,  46],\n",
       "        [ 46,  46,  46],\n",
       "        [ 46,  46,  46]],\n",
       "\n",
       "       [[ 46,  46,  46],\n",
       "        [ 46,  46,  46],\n",
       "        [ 46,  46,  46],\n",
       "        ...,\n",
       "        [ 46,  46,  46],\n",
       "        [ 46,  46,  46],\n",
       "        [ 46,  46,  46]],\n",
       "\n",
       "       ...,\n",
       "\n",
       "       [[221, 221, 215],\n",
       "        [230, 231, 225],\n",
       "        [237, 234, 232],\n",
       "        ...,\n",
       "        [180, 212, 169],\n",
       "        [180, 212, 168],\n",
       "        [180, 212, 168]],\n",
       "\n",
       "       [[227, 229, 221],\n",
       "        [237, 234, 232],\n",
       "        [237, 234, 232],\n",
       "        ...,\n",
       "        [180, 212, 168],\n",
       "        [180, 212, 168],\n",
       "        [180, 212, 168]],\n",
       "\n",
       "       [[237, 234, 232],\n",
       "        [237, 234, 232],\n",
       "        [237, 234, 232],\n",
       "        ...,\n",
       "        [193, 220, 184],\n",
       "        [194, 220, 184],\n",
       "        [192, 219, 182]]], dtype=uint8)"
      ]
     },
     "execution_count": 8,
     "metadata": {},
     "output_type": "execute_result"
    }
   ],
   "source": [
    "top_left = max_loc\n",
    "bottom_right = (top_left[0]+height, top_left[1]+width)\n",
    "cv2.rectangle(original_image, top_left, bottom_right, (0,0,255), 5)"
   ]
  },
  {
   "cell_type": "code",
   "execution_count": 9,
   "metadata": {},
   "outputs": [
    {
     "data": {
      "text/plain": [
       "-1"
      ]
     },
     "execution_count": 9,
     "metadata": {},
     "output_type": "execute_result"
    }
   ],
   "source": [
    "cv2.imshow(\"Original Image with matched area\", original_image)\n",
    "cv2.waitKey(0)"
   ]
  },
  {
   "cell_type": "code",
   "execution_count": 10,
   "metadata": {},
   "outputs": [],
   "source": [
    "cv2.destroyAllWindows()"
   ]
  },
  {
   "cell_type": "code",
   "execution_count": null,
   "metadata": {},
   "outputs": [],
   "source": []
  }
 ],
 "metadata": {
  "kernelspec": {
   "display_name": "Python 3",
   "language": "python",
   "name": "python3"
  },
  "language_info": {
   "codemirror_mode": {
    "name": "ipython",
    "version": 3
   },
   "file_extension": ".py",
   "mimetype": "text/x-python",
   "name": "python",
   "nbconvert_exporter": "python",
   "pygments_lexer": "ipython3",
   "version": "3.8.5"
  }
 },
 "nbformat": 4,
 "nbformat_minor": 4
}
