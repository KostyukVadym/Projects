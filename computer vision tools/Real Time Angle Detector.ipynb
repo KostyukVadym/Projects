{
 "cells": [
  {
   "cell_type": "code",
   "execution_count": 6,
   "id": "cd7c7282",
   "metadata": {},
   "outputs": [],
   "source": [
    "import cv2\n",
    "import math"
   ]
  },
  {
   "cell_type": "code",
   "execution_count": 7,
   "id": "d88e9060",
   "metadata": {},
   "outputs": [],
   "source": [
    "path = 'test.jpg'\n",
    "img = cv2.imread(path)\n",
    "pointsList = []\n",
    "# Building a function that draws a circle and line joining to next circle on event mouse-click\n",
    "def mousePoints(event,x,y,flags,params):\n",
    "    if event == cv2.EVENT_LBUTTONDOWN:\n",
    "        size = len(pointsList)\n",
    "        if size != 0 and size % 3 != 0:\n",
    "            cv2.line(img,tuple(pointsList[round((size-1)/3)*3]),(x,y),(0,0,255),2)\n",
    "        cv2.circle(img,(x,y),5,(0,0,255),cv2.FILLED)\n",
    "        pointsList.append([x,y])"
   ]
  },
  {
   "cell_type": "code",
   "execution_count": 8,
   "id": "326bb3a9",
   "metadata": {},
   "outputs": [],
   "source": [
    "def gradient(pt1,pt2):\n",
    "    return (pt2[1]-pt1[1])/(pt2[0]-pt1[0])"
   ]
  },
  {
   "cell_type": "code",
   "execution_count": 9,
   "id": "8c321291",
   "metadata": {},
   "outputs": [],
   "source": [
    "def getAngle(pointsList):\n",
    "    pt1, pt2, pt3 = pointsList[-3:]\n",
    "    m1 = gradient(pt1,pt2)\n",
    "    m2 = gradient(pt1,pt3)\n",
    "    angR = math.atan((m2-m1)/(1+(m2*m1)))\n",
    "    angD = round(math.degrees(angR))\n",
    " \n",
    "    cv2.putText(img,str(angD),(pt1[0]-40,pt1[1]-20),cv2.FONT_HERSHEY_COMPLEX,\n",
    "                1.5,(0,0,255),2)"
   ]
  },
  {
   "cell_type": "code",
   "execution_count": null,
   "id": "4e9e2f06",
   "metadata": {},
   "outputs": [],
   "source": [
    "while True:\n",
    " \n",
    " \n",
    "    if len(pointsList) % 3 == 0 and len(pointsList) !=0:\n",
    "        getAngle(pointsList)\n",
    " \n",
    "    cv2.imshow('Image',img)\n",
    "    cv2.setMouseCallback('Image',mousePoints)\n",
    "    if cv2.waitKey(1) & 0xFF == ord('q'):\n",
    "        pointsList = []\n",
    "        img = cv2.imread(path)"
   ]
  },
  {
   "cell_type": "code",
   "execution_count": null,
   "id": "142a9b14",
   "metadata": {},
   "outputs": [],
   "source": []
  }
 ],
 "metadata": {
  "kernelspec": {
   "display_name": "Python 3 (ipykernel)",
   "language": "python",
   "name": "python3"
  },
  "language_info": {
   "codemirror_mode": {
    "name": "ipython",
    "version": 3
   },
   "file_extension": ".py",
   "mimetype": "text/x-python",
   "name": "python",
   "nbconvert_exporter": "python",
   "pygments_lexer": "ipython3",
   "version": "3.9.7"
  }
 },
 "nbformat": 4,
 "nbformat_minor": 5
}
